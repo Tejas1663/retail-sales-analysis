{
 "cells": [
  {
   "cell_type": "code",
   "execution_count": null,
   "id": "570ceab3-58b7-4c03-826b-e50969ad0c61",
   "metadata": {},
   "outputs": [],
   "source": []
  }
 ],
 "metadata": {
  "kernelspec": {
   "display_name": "",
   "name": ""
  },
  "language_info": {
   "name": ""
  }
 },
 "nbformat": 4,
 "nbformat_minor": 5
}
